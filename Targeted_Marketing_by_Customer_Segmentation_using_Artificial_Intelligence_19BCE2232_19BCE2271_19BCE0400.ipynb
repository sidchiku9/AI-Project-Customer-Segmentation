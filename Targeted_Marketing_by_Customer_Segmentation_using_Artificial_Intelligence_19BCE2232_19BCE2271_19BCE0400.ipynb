{
  "nbformat": 4,
  "nbformat_minor": 0,
  "metadata": {
    "colab": {
      "name": "Targeted Marketing by Customer Segmentation using Artificial Intelligence 19BCE2232 19BCE2271 19BCE0400.ipynb",
      "provenance": [],
      "collapsed_sections": [],
      "include_colab_link": true
    },
    "kernelspec": {
      "name": "python3",
      "display_name": "Python 3"
    },
    "language_info": {
      "name": "python"
    }
  },
  "cells": [
    {
      "cell_type": "markdown",
      "metadata": {
        "id": "view-in-github",
        "colab_type": "text"
      },
      "source": [
        "<a href=\"https://colab.research.google.com/github/sidchiku9/AI-Project-Customer-Segmentation/blob/main/Targeted_Marketing_by_Customer_Segmentation_using_Artificial_Intelligence_19BCE2232_19BCE2271_19BCE0400.ipynb\" target=\"_parent\"><img src=\"https://colab.research.google.com/assets/colab-badge.svg\" alt=\"Open In Colab\"/></a>"
      ]
    },
    {
      "cell_type": "code",
      "metadata": {
        "id": "ce__xGHayvIJ"
      },
      "source": [
        "import pandas as pd\n",
        "import numpy as np\n",
        "import seaborn as sns\n",
        "import matplotlib.pyplot as plt\n",
        "import zipfile\n",
        "import cv2\n",
        "import plotly.express as px\n",
        "import tensorflow as tf\n",
        "from tensorflow.python.keras import Sequential\n",
        "from tensorflow.keras import layers, optimizers\n",
        "from tensorflow.keras.applications.resnet50 import ResNet50\n",
        "from tensorflow.keras.layers import Input, Add, Dense, Activation, ZeroPadding2D, BatchNormalization, Flatten, Conv2D, AveragePooling2D, MaxPooling2D, Dropout\n",
        "from tensorflow.keras.models import Model, load_model\n",
        "from tensorflow.keras.initializers import glorot_uniform\n",
        "from tensorflow.keras.utils import plot_model\n",
        "from tensorflow.keras.callbacks import ReduceLROnPlateau, EarlyStopping, ModelCheckpoint, LearningRateScheduler\n",
        "from IPython.display import display\n",
        "from tensorflow.keras import backend as K\n",
        "from sklearn.preprocessing import StandardScaler, normalize\n",
        "from sklearn.cluster import KMeans\n",
        "from sklearn.decomposition import PCA\n",
        "from sklearn.metrics import silhouette_score\n",
        "from sklearn.manifold import TSNE\n",
        "from sklearn.metrics.pairwise import cosine_similarity\n",
        "import plotly.express as px\n",
        "import plotly.graph_objects as go\n",
        "\n",
        "from google.colab import files #library to upload files to colab notebook\n",
        "%matplotlib inline"
      ],
      "execution_count": 58,
      "outputs": []
    },
    {
      "cell_type": "code",
      "metadata": {
        "id": "hFsFU53Mztht",
        "colab": {
          "base_uri": "https://localhost:8080/",
          "height": 0
        },
        "outputId": "e611c4f1-29ed-42b6-d925-c1bd626d64a9"
      },
      "source": [
        "from google.colab import drive\n",
        "drive.mount('/content/drive')"
      ],
      "execution_count": 59,
      "outputs": [
        {
          "output_type": "stream",
          "name": "stdout",
          "text": [
            "Drive already mounted at /content/drive; to attempt to forcibly remount, call drive.mount(\"/content/drive\", force_remount=True).\n"
          ]
        }
      ]
    },
    {
      "cell_type": "code",
      "metadata": {
        "id": "yqe9EJJM6oMf",
        "colab": {
          "base_uri": "https://localhost:8080/",
          "height": 0
        },
        "outputId": "a5a8b33e-8785-4843-8559-38329597d4b6"
      },
      "source": [
        "drive.mount(\"/content/drive\", force_remount=True)"
      ],
      "execution_count": 60,
      "outputs": [
        {
          "output_type": "stream",
          "name": "stdout",
          "text": [
            "Mounted at /content/drive\n"
          ]
        }
      ]
    },
    {
      "cell_type": "code",
      "metadata": {
        "id": "e8kfPz8g0pqT"
      },
      "source": [
        "sales_df = pd.read_csv('/content/drive/My Drive/Colab Notebooks/sales_data_sample.csv', encoding = 'unicode_escape')"
      ],
      "execution_count": 61,
      "outputs": []
    },
    {
      "cell_type": "code",
      "metadata": {
        "id": "QTbDWEcb07q_"
      },
      "source": [
        "sales_df"
      ],
      "execution_count": null,
      "outputs": []
    },
    {
      "cell_type": "code",
      "metadata": {
        "id": "gCosAlZ71C8H"
      },
      "source": [
        "sales_df.dtypes"
      ],
      "execution_count": null,
      "outputs": []
    },
    {
      "cell_type": "markdown",
      "metadata": {
        "id": "DaT_jR0oTxxU"
      },
      "source": [
        "Deleting this sales_df['ORDERDATE'] = pd.to_datetime(sales_df['ORDERDATE'])"
      ]
    },
    {
      "cell_type": "markdown",
      "metadata": {
        "id": "cavFL7PKTwA_"
      },
      "source": [
        ""
      ]
    },
    {
      "cell_type": "code",
      "metadata": {
        "id": "ZabHLxeDFYP9",
        "colab": {
          "base_uri": "https://localhost:8080/",
          "height": 0
        },
        "outputId": "7606e111-40fc-451b-b312-83747849175e"
      },
      "source": [
        "sales_df['ADDRESSLINE2'].isnull().sum()"
      ],
      "execution_count": 64,
      "outputs": [
        {
          "output_type": "execute_result",
          "data": {
            "text/plain": [
              "2521"
            ]
          },
          "metadata": {},
          "execution_count": 64
        }
      ]
    },
    {
      "cell_type": "code",
      "metadata": {
        "id": "6c16-xkuFo8m"
      },
      "source": [
        "sales_df.isnull().sum()"
      ],
      "execution_count": null,
      "outputs": []
    },
    {
      "cell_type": "code",
      "metadata": {
        "id": "qw-U0qr8F8pz"
      },
      "source": [
        "#Personal details : CONTACTFIRSTNAME, CONTACTLASTNAME, PHONE, ADDRESSLINE1, CITY, CUSTOMERNAME, ORDERNUMBER can be dropped\n",
        "#ADDRESSLINE2, POSTALCODE, STATE and TERRITORY can be dropped as they have a lot of NULL values\n",
        "\n",
        "df_drop = ['CONTACTFIRSTNAME','CONTACTLASTNAME','PHONE','ADDRESSLINE1','CITY', 'ADDRESSLINE2','POSTALCODE','STATE','TERRITORY', 'CUSTOMERNAME', 'ORDERNUMBER']\n",
        "sales_df = sales_df.drop(df_drop, axis = 1)\n",
        "sales_df.head()"
      ],
      "execution_count": null,
      "outputs": []
    },
    {
      "cell_type": "code",
      "metadata": {
        "id": "0C0r89rCHZOn"
      },
      "source": [
        "sales_df.isnull().sum()"
      ],
      "execution_count": null,
      "outputs": []
    },
    {
      "cell_type": "code",
      "metadata": {
        "id": "SpqcKAbuHhsZ"
      },
      "source": [
        "sales_df.nunique() #to show the entropy of our data"
      ],
      "execution_count": null,
      "outputs": []
    },
    {
      "cell_type": "code",
      "metadata": {
        "id": "CLQpm951yJS1"
      },
      "source": [
        "sales_df['COUNTRY'].value_counts().index"
      ],
      "execution_count": null,
      "outputs": []
    },
    {
      "cell_type": "code",
      "metadata": {
        "id": "q4TRfbjdD7Nz"
      },
      "source": [
        "sales_df['COUNTRY'].value_counts()"
      ],
      "execution_count": null,
      "outputs": []
    },
    {
      "cell_type": "code",
      "metadata": {
        "id": "MbssgQALEqeu"
      },
      "source": [
        "def barplot_visualization(x):\n",
        "  fig = plt.Figure(figsize = (12, 6))\n",
        "  fig = px.bar(x = sales_df[x].value_counts().index, y = sales_df[x].value_counts(), color = sales_df[x].value_counts().index, height = 600)\n",
        "  fig.show()"
      ],
      "execution_count": 71,
      "outputs": []
    },
    {
      "cell_type": "code",
      "metadata": {
        "id": "Tygzbi1SFj6t"
      },
      "source": [
        "barplot_visualization('COUNTRY') "
      ],
      "execution_count": null,
      "outputs": []
    },
    {
      "cell_type": "code",
      "metadata": {
        "id": "Yyl9kLuYG3rg"
      },
      "source": [
        "barplot_visualization('STATUS')"
      ],
      "execution_count": null,
      "outputs": []
    },
    {
      "cell_type": "code",
      "metadata": {
        "id": "1KSRJwKBG76O"
      },
      "source": [
        "sales_df.drop(columns= ['STATUS'], inplace = True)\n",
        "sales_df"
      ],
      "execution_count": null,
      "outputs": []
    },
    {
      "cell_type": "code",
      "metadata": {
        "id": "181oDLSUHv1Q"
      },
      "source": [
        "def dummies(x):\n",
        "  dummy = pd.get_dummies(sales_df[x])\n",
        "  sales_df.drop(columns = x , inplace = True)\n",
        "  return pd.concat([sales_df, dummy], axis = 1)"
      ],
      "execution_count": 75,
      "outputs": []
    },
    {
      "cell_type": "code",
      "metadata": {
        "id": "D5xf-el5Iafp"
      },
      "source": [
        "sales_df = dummies('COUNTRY')\n",
        "sales_df"
      ],
      "execution_count": null,
      "outputs": []
    },
    {
      "cell_type": "code",
      "metadata": {
        "id": "WQNtIPg-ImzN"
      },
      "source": [
        "sales_df = dummies('PRODUCTLINE')\n",
        "sales_df"
      ],
      "execution_count": null,
      "outputs": []
    },
    {
      "cell_type": "code",
      "metadata": {
        "id": "Zd9Xl7a9I8tS"
      },
      "source": [
        "sales_df = dummies('DEALSIZE')\n",
        "sales_df"
      ],
      "execution_count": null,
      "outputs": []
    },
    {
      "cell_type": "code",
      "metadata": {
        "id": "mdiErtoBJTw7"
      },
      "source": [
        "y = pd.Categorical(sales_df['PRODUCTCODE'])\n",
        "y"
      ],
      "execution_count": null,
      "outputs": []
    },
    {
      "cell_type": "code",
      "metadata": {
        "id": "MFjgUnh8JUf-"
      },
      "source": [
        "y = pd.Categorical(sales_df['PRODUCTCODE']).codes\n",
        "y"
      ],
      "execution_count": null,
      "outputs": []
    },
    {
      "cell_type": "code",
      "metadata": {
        "id": "AgI-hovnJlhT"
      },
      "source": [
        "sales_df['PRODUCTCODE'] = pd.Categorical(sales_df['PRODUCTCODE']).codes"
      ],
      "execution_count": 81,
      "outputs": []
    },
    {
      "cell_type": "code",
      "metadata": {
        "id": "LnYABAz6Jyds"
      },
      "source": [
        "sales_df"
      ],
      "execution_count": null,
      "outputs": []
    },
    {
      "cell_type": "code",
      "metadata": {
        "id": "wsvhmzVfJ9bM"
      },
      "source": [
        "sales_df_group = sales_df.groupby(by = \"ORDERDATE\").sum()\n",
        "sales_df_group"
      ],
      "execution_count": null,
      "outputs": []
    },
    {
      "cell_type": "code",
      "metadata": {
        "id": "fXPqSo9oLLdh"
      },
      "source": [
        "fig = px.line(x = sales_df_group.index, y = sales_df_group.SALES, title = 'Sales')\n",
        "fig.show()"
      ],
      "execution_count": null,
      "outputs": []
    },
    {
      "cell_type": "code",
      "metadata": {
        "id": "BqXaOombLRm8"
      },
      "source": [
        "sales_df.drop(\"ORDERDATE\", axis = 1, inplace = True)\n",
        "sales_df.shape"
      ],
      "execution_count": null,
      "outputs": []
    },
    {
      "cell_type": "code",
      "metadata": {
        "id": "ZsupdkwLLyt2"
      },
      "source": [
        "plt.figure(figsize = (20, 20))\n",
        "corr_matrix = sales_df.iloc[:, :10].corr()\n",
        "sns.heatmap(corr_matrix, annot = True, cbar = False)"
      ],
      "execution_count": null,
      "outputs": []
    },
    {
      "cell_type": "code",
      "metadata": {
        "id": "DiYj9WoBNGAM"
      },
      "source": [
        "sales_df.drop(\"QTR_ID\", axis = 1, inplace = True)\n",
        "sales_df.shape"
      ],
      "execution_count": null,
      "outputs": []
    },
    {
      "cell_type": "markdown",
      "metadata": {
        "id": "cl8oo7nr3DhG"
      },
      "source": [
        "Kernel Density Estimation, Historgram and Normal Curve"
      ]
    },
    {
      "cell_type": "code",
      "metadata": {
        "id": "OV8A0HYSNUTV"
      },
      "source": [
        "import plotly.figure_factory as ff\n",
        "\n",
        "plt.figure(figsize = (10, 10))\n",
        "\n",
        "for i in range(8):\n",
        "  if sales_df.columns[i] != 'ORDERLINENUMBER':\n",
        "    fig = ff.create_distplot([sales_df[sales_df.columns[i]].apply(lambda x: float(x))], ['distplot'])\n",
        "    fig.update_layout(title_text = sales_df.columns[i])\n",
        "    fig.show()"
      ],
      "execution_count": null,
      "outputs": []
    },
    {
      "cell_type": "code",
      "metadata": {
        "id": "_ehvsfElNkyQ"
      },
      "source": [
        "plt.figure(figsize = (15, 15))\n",
        "\n",
        "fig = px.scatter_matrix(sales_df,\n",
        "    dimensions = sales_df.columns[:8], color = 'MONTH_ID')\n",
        "\n",
        "fig.update_layout(\n",
        "    title = 'Sales Data',\n",
        "    width = 1100,\n",
        "    height = 1100,\n",
        ")\n",
        "fig.show()\n",
        "\n"
      ],
      "execution_count": null,
      "outputs": []
    },
    {
      "cell_type": "code",
      "metadata": {
        "id": "RhJRVsFJSEYX"
      },
      "source": [
        "scaler = StandardScaler()\n",
        "sales_df_scaled = scaler.fit_transform(sales_df)"
      ],
      "execution_count": 129,
      "outputs": []
    },
    {
      "cell_type": "code",
      "metadata": {
        "id": "fDAoa6J-Shd7",
        "colab": {
          "base_uri": "https://localhost:8080/",
          "height": 0
        },
        "outputId": "0f4800fa-a674-41eb-e5c3-3deb58a1316f"
      },
      "source": [
        "sales_df_scaled.shape"
      ],
      "execution_count": 130,
      "outputs": [
        {
          "output_type": "execute_result",
          "data": {
            "text/plain": [
              "(2823, 37)"
            ]
          },
          "metadata": {},
          "execution_count": 130
        }
      ]
    },
    {
      "cell_type": "markdown",
      "metadata": {
        "id": "xfA_8BqXmUkp"
      },
      "source": [
        "Elbow method"
      ]
    },
    {
      "cell_type": "code",
      "metadata": {
        "id": "3psWnBvwSray",
        "colab": {
          "base_uri": "https://localhost:8080/",
          "height": 295
        },
        "outputId": "fa47a58c-b682-44b0-a873-b955224122fd"
      },
      "source": [
        "scores = []\n",
        "\n",
        "range_values = range(1, 15)\n",
        "\n",
        "for i in range_values:\n",
        "  kmeans = KMeans(n_clusters = i)\n",
        "  kmeans.fit(sales_df_scaled)\n",
        "  scores.append(kmeans.inertia_)\n",
        "\n",
        "plt.plot(scores, 'bx-')\n",
        "plt.title('Finding right number of clusters')\n",
        "plt.xlabel('Clusters')\n",
        "plt.ylabel('scores') \n",
        "plt.show()"
      ],
      "execution_count": 131,
      "outputs": [
        {
          "output_type": "display_data",
          "data": {
            "image/png": "[encoded data removed]",
            "text/plain": [
              "<Figure size 432x288 with 1 Axes>"
            ]
          },
          "metadata": {
            "needs_background": "light"
          }
        }
      ]
    },
    {
      "cell_type": "code",
      "metadata": {
        "id": "cQLLuMCMVidH"
      },
      "source": [
        "kmeans = KMeans(5)\n",
        "kmeans.fit(sales_df_scaled)\n",
        "labels = kmeans.labels_"
      ],
      "execution_count": 132,
      "outputs": []
    },
    {
      "cell_type": "code",
      "metadata": {
        "id": "Xo5EdSpwsccW",
        "colab": {
          "base_uri": "https://localhost:8080/",
          "height": 0
        },
        "outputId": "6438260f-1999-49de-c5ee-3d6753f71699"
      },
      "source": [
        "labels"
      ],
      "execution_count": 133,
      "outputs": [
        {
          "output_type": "execute_result",
          "data": {
            "text/plain": [
              "array([1, 1, 0, ..., 0, 1, 0], dtype=int32)"
            ]
          },
          "metadata": {},
          "execution_count": 133
        }
      ]
    },
    {
      "cell_type": "code",
      "metadata": {
        "id": "aPdqQ4pisi1M",
        "colab": {
          "base_uri": "https://localhost:8080/",
          "height": 0
        },
        "outputId": "53b01a32-5d26-4eb8-b623-fa7c245164bf"
      },
      "source": [
        "kmeans.cluster_centers_.shape"
      ],
      "execution_count": 134,
      "outputs": [
        {
          "output_type": "execute_result",
          "data": {
            "text/plain": [
              "(5, 37)"
            ]
          },
          "metadata": {},
          "execution_count": 134
        }
      ]
    },
    {
      "cell_type": "code",
      "metadata": {
        "id": "p2pclgULsuwt"
      },
      "source": [
        "cluster_centers = pd.DataFrame(data = kmeans.cluster_centers_, columns = [sales_df.columns])\n",
        "cluster_centers"
      ],
      "execution_count": null,
      "outputs": []
    },
    {
      "cell_type": "code",
      "metadata": {
        "id": "e3KUcguctP79"
      },
      "source": [
        "cluster_centers = scaler.inverse_transform(cluster_centers)\n",
        "cluster_centers = pd.DataFrame(data = cluster_centers, columns = [sales_df.columns])\n",
        "cluster_centers"
      ],
      "execution_count": null,
      "outputs": []
    },
    {
      "cell_type": "code",
      "metadata": {
        "id": "9WG-IVwmu2S0"
      },
      "source": [
        "sales_df_cluster = pd.concat([sales_df, pd.DataFrame({'cluster':labels})], axis=1)\n",
        "sales_df_cluster"
      ],
      "execution_count": null,
      "outputs": []
    },
    {
      "cell_type": "markdown",
      "metadata": {
        "id": "zcLoaXWcmggq"
      },
      "source": [
        "Converting ORDERLINENUMBER TO FLOAT"
      ]
    },
    {
      "cell_type": "code",
      "metadata": {
        "id": "wooNCssevV9B"
      },
      "source": [
        "sales_df['ORDERLINENUMBER'] = sales_df['ORDERLINENUMBER'].apply(lambda x : float(x))"
      ],
      "execution_count": 138,
      "outputs": []
    },
    {
      "cell_type": "code",
      "metadata": {
        "id": "UnP4xFYXvt8P"
      },
      "source": [
        "for i in sales_df.columns[:8]:\n",
        "  plt.figure(figsize = (30,10))\n",
        "  for j in range(5):\n",
        "    plt.subplot(1, 5, j+1)\n",
        "    cluster = sales_df_cluster[sales_df_cluster['cluster'] == j]\n",
        "    cluster[i].hist()\n",
        "    plt.title('{} \\nCluster : {}'.format(i,j))\n",
        "  \n",
        "  plt.show()"
      ],
      "execution_count": null,
      "outputs": []
    },
    {
      "cell_type": "markdown",
      "metadata": {
        "id": "ob1XoZ4NxrZ3"
      },
      "source": [
        "The graphs above and the data above is gold and can be utilised to infer data about customers and suitably increase or decrease advertising to them.\n"
      ]
    },
    {
      "cell_type": "code",
      "metadata": {
        "id": "9GZfXTiYx1up"
      },
      "source": [
        "pca = PCA(n_components=3)\n",
        "principal_comp = pca.fit_transform(sales_df_scaled)\n",
        "principal_comp"
      ],
      "execution_count": null,
      "outputs": []
    },
    {
      "cell_type": "code",
      "metadata": {
        "id": "rtJhlvOVyKfT"
      },
      "source": [
        "pca_df = pd.DataFrame(data = principal_comp, columns=['PCA1','PCA2','PCA3'])\n",
        "pca_df.head()"
      ],
      "execution_count": null,
      "outputs": []
    },
    {
      "cell_type": "code",
      "metadata": {
        "id": "oNfX-RjTylT8"
      },
      "source": [
        "pca_df = pd.concat([pca_df, pd.DataFrame({'cluster':labels})], axis=1)\n",
        "pca_df"
      ],
      "execution_count": null,
      "outputs": []
    },
    {
      "cell_type": "code",
      "metadata": {
        "id": "DJKdLHIcyygm"
      },
      "source": [
        "fig = px.scatter_3d(pca_df, x = 'PCA1', y = 'PCA2', z = 'PCA3', color = 'cluster', symbol = 'cluster', size_max = 18, opacity=0.7)\n",
        "fig.update_layout(margin = dict(l= 0 , r = 0 , b = 0 , t = 0))"
      ],
      "execution_count": null,
      "outputs": []
    },
    {
      "cell_type": "markdown",
      "metadata": {
        "id": "_w3c_0JQ0MF5"
      },
      "source": [
        "Now using two components for a 2D plot"
      ]
    },
    {
      "cell_type": "code",
      "metadata": {
        "id": "SadbMdnH0POq"
      },
      "source": [
        "pca_2d = PCA(n_components=2)\n",
        "principal_comp_2d = pca_2d.fit_transform(sales_df_scaled)\n",
        "principal_comp_2d"
      ],
      "execution_count": null,
      "outputs": []
    },
    {
      "cell_type": "code",
      "metadata": {
        "id": "P1XHGjn0EpTq"
      },
      "source": [
        "pca_df_2d = pd.DataFrame(data = principal_comp_2d, columns=['PCA1','PCA2'])\n",
        "pca_df_2d.head()"
      ],
      "execution_count": null,
      "outputs": []
    },
    {
      "cell_type": "markdown",
      "metadata": {
        "id": "C7ueVnFhm-hD"
      },
      "source": [
        "Clarity is more in clusters with K means clustering hence we dwelled more into this"
      ]
    },
    {
      "cell_type": "code",
      "metadata": {
        "id": "WRqaNN3qFHyK",
        "colab": {
          "base_uri": "https://localhost:8080/",
          "height": 279
        },
        "outputId": "42d9bebc-958b-4c88-c564-b9dbdab0a5a2"
      },
      "source": [
        "ax = sns.scatterplot(x = 'PCA1', y = 'PCA2', data=pca_df_2d)\n",
        "plt.show()"
      ],
      "execution_count": 147,
      "outputs": [
        {
          "output_type": "display_data",
          "data": {
            "image/png": "[encoded data removed]",
            "text/plain": [
              "<Figure size 432x288 with 1 Axes>"
            ]
          },
          "metadata": {
            "needs_background": "light"
          }
        }
      ]
    },
    {
      "cell_type": "markdown",
      "metadata": {
        "id": "3ArRaMy_LSSd"
      },
      "source": [
        "In autoencoders then input and the output is the same. We purposefully insert a bottleneck in the middle to keep the data for example an image in a different format that is an encoded format. "
      ]
    },
    {
      "cell_type": "code",
      "metadata": {
        "id": "IE0C7OyCLdbf"
      },
      "source": [
        "sales_df.shape"
      ],
      "execution_count": null,
      "outputs": []
    },
    {
      "cell_type": "code",
      "metadata": {
        "id": "QS0wVxkeMmEA"
      },
      "source": [
        "input_df = Input(shape = (37,))\n",
        "x = Dense(50, activation = 'relu')(input_df)\n",
        "x = Dense(500, activation = 'relu', kernel_initializer = 'glorot_uniform')(x)\n",
        "x = Dense(500, activation = 'relu', kernel_initializer = 'glorot_uniform')(x)\n",
        "x = Dense(2000, activation = 'relu', kernel_initializer = 'glorot_uniform')(x)\n",
        "encoded = Dense(8, activation = 'relu', kernel_initializer = 'glorot_uniform')(x)\n",
        "x = Dense(2000, activation = 'relu', kernel_initializer = 'glorot_uniform')(encoded)\n",
        "x = Dense(500, activation = 'relu', kernel_initializer = 'glorot_uniform')(x)\n",
        "decoded = Dense(37, kernel_initializer = 'glorot_uniform')(x)\n",
        "\n",
        "autoencoder = Model(input_df, decoded)\n",
        "\n",
        "encoder = Model(input_df, encoded)\n",
        "\n",
        "autoencoder.compile(optimizer = 'adam', loss='mean_squared_error')"
      ],
      "execution_count": null,
      "outputs": []
    },
    {
      "cell_type": "code",
      "metadata": {
        "id": "0Q9feGFtNUt-"
      },
      "source": [
        "autoencoder.fit(sales_df, sales_df, batch_size = 128, epochs = 500, verbose = 3)"
      ],
      "execution_count": null,
      "outputs": []
    },
    {
      "cell_type": "markdown",
      "metadata": {
        "id": "vcb7-1ylNV8O"
      },
      "source": [
        "Notice that the input and the output is the same"
      ]
    },
    {
      "cell_type": "code",
      "metadata": {
        "id": "53dw34h-QIVg"
      },
      "source": [
        "autoencoder.save_weights('autoencoder_1.h5')"
      ],
      "execution_count": null,
      "outputs": []
    },
    {
      "cell_type": "code",
      "metadata": {
        "id": "uumgaEx1QRvR"
      },
      "source": [
        "pred = encoder.predict(sales_df_scaled)"
      ],
      "execution_count": null,
      "outputs": []
    },
    {
      "cell_type": "code",
      "metadata": {
        "id": "pp9SD_aOQdrQ"
      },
      "source": [
        "scores = []\n",
        "\n",
        "range_values = range(1, 15)\n",
        "\n",
        "for i in range_values:\n",
        "  kmeans = KMeans(n_clusters = i)\n",
        "  kmeans.fit(pred)\n",
        "  scores.append(kmeans.inertia_)\n",
        "\n",
        "plt.plot(scores, 'bx-')\n",
        "plt.title('Finding right number of clusters')\n",
        "plt.xlabel('Clusters')\n",
        "plt.ylabel('scores') \n",
        "plt.show()"
      ],
      "execution_count": null,
      "outputs": []
    },
    {
      "cell_type": "markdown",
      "metadata": {
        "id": "DzDDFNocRKk-"
      },
      "source": [
        "Optimal number of clusters is selected upon the point where exponential drop happens and then point starts to saturate."
      ]
    },
    {
      "cell_type": "code",
      "metadata": {
        "id": "HjHAFYYZQiio"
      },
      "source": [
        "kmeans = KMeans(3)\n",
        "kmeans.fit(pred)\n",
        "labels = kmeans.labels_\n",
        "y_kmeans = kmeans.fit_predict(sales_df_scaled)"
      ],
      "execution_count": null,
      "outputs": []
    },
    {
      "cell_type": "code",
      "metadata": {
        "id": "VhU7DixDQloP"
      },
      "source": [
        "df_cluster_dr = pd.concat([sales_df, pd.DataFrame({'cluster':labels})], axis = 1)\n",
        "df_cluster_dr.head()"
      ],
      "execution_count": null,
      "outputs": []
    },
    {
      "cell_type": "code",
      "metadata": {
        "id": "caoAhUwZQpNK"
      },
      "source": [
        "cluster_centers = pd.DataFrame(data = kmeans.cluster_centers_, columns = [sales_df.columns])\n",
        "cluster_centers "
      ],
      "execution_count": null,
      "outputs": []
    },
    {
      "cell_type": "code",
      "metadata": {
        "id": "c2i0aghsQsRa"
      },
      "source": [
        "cluster_centers = scaler.inverse_transform(cluster_centers)\n",
        "cluster_centers = pd.DataFrame(data = cluster_centers, columns = [sales_df.columns])\n",
        "cluster_centers"
      ],
      "execution_count": null,
      "outputs": []
    },
    {
      "cell_type": "code",
      "metadata": {
        "id": "a4pxisNCQv-k"
      },
      "source": [
        "for i in sales_df.columns[:8]:\n",
        "  plt.figure(figsize = (30, 6))\n",
        "  for j in range(3):\n",
        "    plt.subplot(1, 3, j+1)\n",
        "    cluster = df_cluster_dr[df_cluster_dr['cluster'] == j]\n",
        "    cluster[i].hist()\n",
        "    plt.title('{}    \\nCluster - {} '.format(i,j))\n",
        "  \n",
        "  plt.show()"
      ],
      "execution_count": null,
      "outputs": []
    },
    {
      "cell_type": "code",
      "metadata": {
        "id": "mtsq7SRpQ4UH"
      },
      "source": [
        "pca = PCA(n_components = 3)\n",
        "prin_comp = pca.fit_transform(sales_df_scaled)\n",
        "pca_df = pd.DataFrame(data = prin_comp, columns = ['pca1', 'pca2', 'pca3'])\n",
        "pca_df.head()"
      ],
      "execution_count": null,
      "outputs": []
    },
    {
      "cell_type": "code",
      "metadata": {
        "id": "eUwPhpDgQ6_V"
      },
      "source": [
        "pca_df = pd.concat([pca_df, pd.DataFrame({'cluster':labels})], axis = 1)\n",
        "pca_df.head()"
      ],
      "execution_count": null,
      "outputs": []
    },
    {
      "cell_type": "code",
      "metadata": {
        "id": "ZDyqaQuEQ-bM"
      },
      "source": [
        "fig = px.scatter_3d(pca_df, x = 'pca1', y = 'pca2', z = 'pca3',\n",
        "              color='cluster', symbol = 'cluster', size_max = 10, opacity = 0.7)\n",
        "fig.update_layout(margin = dict(l = 0, r = 0, b = 0, t = 0))"
      ],
      "execution_count": null,
      "outputs": []
    },
    {
      "cell_type": "markdown",
      "metadata": {
        "id": "fCA-uwrxMcsH"
      },
      "source": [
        "**Hierarchical Clustering**"
      ]
    },
    {
      "cell_type": "markdown",
      "metadata": {
        "id": "O3DOpX1yh_EO"
      },
      "source": [
        "Testing only beyoind this point"
      ]
    },
    {
      "cell_type": "code",
      "metadata": {
        "colab": {
          "base_uri": "https://localhost:8080/",
          "height": 0
        },
        "id": "h-sNmozMhhjK",
        "outputId": "ba6b1cdd-527e-4e78-fa79-af1c6f5ab53d"
      },
      "source": [
        "from google.colab import drive\n",
        "drive.mount('/content/drive')"
      ],
      "execution_count": 88,
      "outputs": [
        {
          "output_type": "stream",
          "name": "stdout",
          "text": [
            "Drive already mounted at /content/drive; to attempt to forcibly remount, call drive.mount(\"/content/drive\", force_remount=True).\n"
          ]
        }
      ]
    },
    {
      "cell_type": "code",
      "metadata": {
        "id": "D3ys0ZcchnzF"
      },
      "source": [
        "data = pd.read_csv('/content/drive/My Drive/Colab Notebooks/sales_data_sample.csv', encoding = 'unicode_escape')"
      ],
      "execution_count": 94,
      "outputs": []
    },
    {
      "cell_type": "code",
      "metadata": {
        "id": "MRlo2D_tiEis"
      },
      "source": [
        "import pandas as pd\n",
        "import numpy as np\n",
        "import matplotlib.pyplot as plt\n",
        "%matplotlib inline"
      ],
      "execution_count": 90,
      "outputs": []
    },
    {
      "cell_type": "code",
      "metadata": {
        "colab": {
          "base_uri": "https://localhost:8080/",
          "height": 330
        },
        "id": "lb9yxMRJiS6E",
        "outputId": "8ef2ea82-f662-4147-ae67-19908f7aa28f"
      },
      "source": [
        "data.head()"
      ],
      "execution_count": 99,
      "outputs": [
        {
          "output_type": "execute_result",
          "data": {
            "text/html": [
              "<div>\n",
              "<style scoped>\n",
              "    .dataframe tbody tr th:only-of-type {\n",
              "        vertical-align: middle;\n",
              "    }\n",
              "\n",
              "    .dataframe tbody tr th {\n",
              "        vertical-align: top;\n",
              "    }\n",
              "\n",
              "    .dataframe thead th {\n",
              "        text-align: right;\n",
              "    }\n",
              "</style>\n",
              "<table border=\"1\" class=\"dataframe\">\n",
              "  <thead>\n",
              "    <tr style=\"text-align: right;\">\n",
              "      <th></th>\n",
              "      <th>ORDERNUMBER</th>\n",
              "      <th>QUANTITYORDERED</th>\n",
              "      <th>PRICEEACH</th>\n",
              "      <th>ORDERLINENUMBER</th>\n",
              "      <th>SALES</th>\n",
              "      <th>STATUS</th>\n",
              "      <th>QTR_ID</th>\n",
              "      <th>MONTH_ID</th>\n",
              "      <th>YEAR_ID</th>\n",
              "      <th>PRODUCTLINE</th>\n",
              "      <th>MSRP</th>\n",
              "      <th>PRODUCTCODE</th>\n",
              "      <th>CUSTOMERNAME</th>\n",
              "      <th>PHONE</th>\n",
              "      <th>ADDRESSLINE1</th>\n",
              "      <th>ADDRESSLINE2</th>\n",
              "      <th>CITY</th>\n",
              "      <th>STATE</th>\n",
              "      <th>POSTALCODE</th>\n",
              "      <th>COUNTRY</th>\n",
              "      <th>TERRITORY</th>\n",
              "      <th>CONTACTLASTNAME</th>\n",
              "      <th>CONTACTFIRSTNAME</th>\n",
              "      <th>DEALSIZE</th>\n",
              "    </tr>\n",
              "  </thead>\n",
              "  <tbody>\n",
              "    <tr>\n",
              "      <th>0</th>\n",
              "      <td>10107</td>\n",
              "      <td>30</td>\n",
              "      <td>95.70</td>\n",
              "      <td>2</td>\n",
              "      <td>2871.00</td>\n",
              "      <td>Shipped</td>\n",
              "      <td>1</td>\n",
              "      <td>2</td>\n",
              "      <td>2003</td>\n",
              "      <td>Motorcycles</td>\n",
              "      <td>95</td>\n",
              "      <td>S10_1678</td>\n",
              "      <td>Land of Toys Inc.</td>\n",
              "      <td>2125557818</td>\n",
              "      <td>897 Long Airport Avenue</td>\n",
              "      <td>NaN</td>\n",
              "      <td>NYC</td>\n",
              "      <td>NY</td>\n",
              "      <td>10022</td>\n",
              "      <td>USA</td>\n",
              "      <td>NaN</td>\n",
              "      <td>Yu</td>\n",
              "      <td>Kwai</td>\n",
              "      <td>Small</td>\n",
              "    </tr>\n",
              "    <tr>\n",
              "      <th>1</th>\n",
              "      <td>10121</td>\n",
              "      <td>34</td>\n",
              "      <td>81.35</td>\n",
              "      <td>5</td>\n",
              "      <td>2765.90</td>\n",
              "      <td>Shipped</td>\n",
              "      <td>2</td>\n",
              "      <td>5</td>\n",
              "      <td>2003</td>\n",
              "      <td>Motorcycles</td>\n",
              "      <td>95</td>\n",
              "      <td>S10_1678</td>\n",
              "      <td>Reims Collectables</td>\n",
              "      <td>26.47.1555</td>\n",
              "      <td>59 rue de l'Abbaye</td>\n",
              "      <td>NaN</td>\n",
              "      <td>Reims</td>\n",
              "      <td>NaN</td>\n",
              "      <td>51100</td>\n",
              "      <td>France</td>\n",
              "      <td>EMEA</td>\n",
              "      <td>Henriot</td>\n",
              "      <td>Paul</td>\n",
              "      <td>Small</td>\n",
              "    </tr>\n",
              "    <tr>\n",
              "      <th>2</th>\n",
              "      <td>10134</td>\n",
              "      <td>41</td>\n",
              "      <td>94.74</td>\n",
              "      <td>2</td>\n",
              "      <td>3884.34</td>\n",
              "      <td>Shipped</td>\n",
              "      <td>3</td>\n",
              "      <td>7</td>\n",
              "      <td>2003</td>\n",
              "      <td>Motorcycles</td>\n",
              "      <td>95</td>\n",
              "      <td>S10_1678</td>\n",
              "      <td>Lyon Souveniers</td>\n",
              "      <td>+33 1 46 62 7555</td>\n",
              "      <td>27 rue du Colonel Pierre Avia</td>\n",
              "      <td>NaN</td>\n",
              "      <td>Paris</td>\n",
              "      <td>NaN</td>\n",
              "      <td>75508</td>\n",
              "      <td>France</td>\n",
              "      <td>EMEA</td>\n",
              "      <td>Da Cunha</td>\n",
              "      <td>Daniel</td>\n",
              "      <td>Medium</td>\n",
              "    </tr>\n",
              "    <tr>\n",
              "      <th>3</th>\n",
              "      <td>10145</td>\n",
              "      <td>45</td>\n",
              "      <td>83.26</td>\n",
              "      <td>6</td>\n",
              "      <td>3746.70</td>\n",
              "      <td>Shipped</td>\n",
              "      <td>3</td>\n",
              "      <td>8</td>\n",
              "      <td>2003</td>\n",
              "      <td>Motorcycles</td>\n",
              "      <td>95</td>\n",
              "      <td>S10_1678</td>\n",
              "      <td>Toys4GrownUps.com</td>\n",
              "      <td>6265557265</td>\n",
              "      <td>78934 Hillside Dr.</td>\n",
              "      <td>NaN</td>\n",
              "      <td>Pasadena</td>\n",
              "      <td>CA</td>\n",
              "      <td>90003</td>\n",
              "      <td>USA</td>\n",
              "      <td>NaN</td>\n",
              "      <td>Young</td>\n",
              "      <td>Julie</td>\n",
              "      <td>Medium</td>\n",
              "    </tr>\n",
              "    <tr>\n",
              "      <th>4</th>\n",
              "      <td>10159</td>\n",
              "      <td>49</td>\n",
              "      <td>100.00</td>\n",
              "      <td>14</td>\n",
              "      <td>5205.27</td>\n",
              "      <td>Shipped</td>\n",
              "      <td>4</td>\n",
              "      <td>10</td>\n",
              "      <td>2003</td>\n",
              "      <td>Motorcycles</td>\n",
              "      <td>95</td>\n",
              "      <td>S10_1678</td>\n",
              "      <td>Corporate Gift Ideas Co.</td>\n",
              "      <td>6505551386</td>\n",
              "      <td>7734 Strong St.</td>\n",
              "      <td>NaN</td>\n",
              "      <td>San Francisco</td>\n",
              "      <td>CA</td>\n",
              "      <td>NaN</td>\n",
              "      <td>USA</td>\n",
              "      <td>NaN</td>\n",
              "      <td>Brown</td>\n",
              "      <td>Julie</td>\n",
              "      <td>Medium</td>\n",
              "    </tr>\n",
              "  </tbody>\n",
              "</table>\n",
              "</div>"
            ],
            "text/plain": [
              "   ORDERNUMBER  QUANTITYORDERED  ...  CONTACTFIRSTNAME  DEALSIZE\n",
              "0        10107               30  ...              Kwai     Small\n",
              "1        10121               34  ...              Paul     Small\n",
              "2        10134               41  ...            Daniel    Medium\n",
              "3        10145               45  ...             Julie    Medium\n",
              "4        10159               49  ...             Julie    Medium\n",
              "\n",
              "[5 rows x 24 columns]"
            ]
          },
          "metadata": {},
          "execution_count": 99
        }
      ]
    },
    {
      "cell_type": "code",
      "metadata": {
        "id": "OZkeJkIEipme"
      },
      "source": [
        "data.drop(\"ORDERDATE\", axis = 1, inplace = True)"
      ],
      "execution_count": 97,
      "outputs": []
    },
    {
      "cell_type": "code",
      "metadata": {
        "id": "nM09-R_Li4nn"
      },
      "source": [
        "df_drop = ['CONTACTFIRSTNAME','CONTACTLASTNAME','PHONE','ADDRESSLINE1','CITY', 'ADDRESSLINE2','POSTALCODE','STATE','TERRITORY', 'CUSTOMERNAME', 'ORDERNUMBER']\n",
        "data = data.drop(df_drop, axis = 1)"
      ],
      "execution_count": null,
      "outputs": []
    },
    {
      "cell_type": "code",
      "metadata": {
        "id": "owHIKi0BjHEX"
      },
      "source": [
        "df_drop_1 = ['STATUS']\n",
        "data = data.drop(df_drop_1, axis = 1)"
      ],
      "execution_count": 104,
      "outputs": []
    },
    {
      "cell_type": "code",
      "metadata": {
        "id": "O60PHnoWjO1R"
      },
      "source": [
        "df_drop_2 = ['PRODUCTLINE']\n",
        "data = data.drop(df_drop_2, axis = 1)"
      ],
      "execution_count": 106,
      "outputs": []
    },
    {
      "cell_type": "code",
      "metadata": {
        "id": "NvTYQyp0jV59"
      },
      "source": [
        "df_drop_3 = ['PRODUCTCODE']\n",
        "data = data.drop(df_drop_3, axis = 1)"
      ],
      "execution_count": 108,
      "outputs": []
    },
    {
      "cell_type": "code",
      "metadata": {
        "id": "azFMRkHujb29"
      },
      "source": [
        "df_drop_4 = ['COUNTRY']\n",
        "data = data.drop(df_drop_4, axis = 1)"
      ],
      "execution_count": 111,
      "outputs": []
    },
    {
      "cell_type": "code",
      "metadata": {
        "id": "8XmcW8VajlGe"
      },
      "source": [
        "df_drop_5 = ['DEALSIZE']\n",
        "data = data.drop(df_drop_5, axis = 1)"
      ],
      "execution_count": 113,
      "outputs": []
    },
    {
      "cell_type": "code",
      "metadata": {
        "id": "yAaU_BJGic1d"
      },
      "source": [
        "from sklearn.preprocessing import normalize\n",
        "data_scaled = normalize(data)\n",
        "data_scaled = pd.DataFrame(data_scaled, columns=data.columns)\n",
        "data_scaled.head()"
      ],
      "execution_count": null,
      "outputs": []
    },
    {
      "cell_type": "code",
      "metadata": {
        "colab": {
          "base_uri": "https://localhost:8080/",
          "height": 447
        },
        "id": "owRmE4-mjskY",
        "outputId": "9bd21f08-86fc-428b-fb31-a5c81e6d19cf"
      },
      "source": [
        "import scipy.cluster.hierarchy as shc\n",
        "plt.figure(figsize=(10, 7))  \n",
        "plt.title(\"Dendrograms\")  \n",
        "dend = shc.dendrogram(shc.linkage(data_scaled, method='ward'))"
      ],
      "execution_count": 115,
      "outputs": [
        {
          "output_type": "display_data",
          "data": {
            "image/png": "[encoded data removed]",
            "text/plain": [
              "<Figure size 720x504 with 1 Axes>"
            ]
          },
          "metadata": {
            "needs_background": "light"
          }
        }
      ]
    },
    {
      "cell_type": "code",
      "metadata": {
        "colab": {
          "base_uri": "https://localhost:8080/",
          "height": 464
        },
        "id": "NPXuR-_vkDFD",
        "outputId": "bd311645-83d1-4bcd-c40b-7e88498fa869"
      },
      "source": [
        "plt.figure(figsize=(10, 7))  \n",
        "plt.title(\"Dendrograms\")  \n",
        "dend = shc.dendrogram(shc.linkage(data_scaled, method='ward'))\n",
        "plt.axhline(y=8, color='r', linestyle='--')"
      ],
      "execution_count": 116,
      "outputs": [
        {
          "output_type": "execute_result",
          "data": {
            "text/plain": [
              "<matplotlib.lines.Line2D at 0x7fa638556f90>"
            ]
          },
          "metadata": {},
          "execution_count": 116
        },
        {
          "output_type": "display_data",
          "data": {
            "image/png": "[encoded data removed]",
            "text/plain": [
              "<Figure size 720x504 with 1 Axes>"
            ]
          },
          "metadata": {
            "needs_background": "light"
          }
        }
      ]
    },
    {
      "cell_type": "code",
      "metadata": {
        "colab": {
          "base_uri": "https://localhost:8080/",
          "height": 0
        },
        "id": "ROwWj6pokeY0",
        "outputId": "f7a14035-6a3c-448a-c7a3-e6e38ad8f02c"
      },
      "source": [
        "from sklearn.cluster import AgglomerativeClustering\n",
        "cluster = AgglomerativeClustering(n_clusters=2, affinity='euclidean', linkage='ward')  \n",
        "cluster.fit_predict(data_scaled)"
      ],
      "execution_count": 117,
      "outputs": [
        {
          "output_type": "execute_result",
          "data": {
            "text/plain": [
              "array([0, 0, 0, ..., 0, 1, 0])"
            ]
          },
          "metadata": {},
          "execution_count": 117
        }
      ]
    },
    {
      "cell_type": "code",
      "metadata": {
        "colab": {
          "base_uri": "https://localhost:8080/",
          "height": 206
        },
        "id": "Wr-7dl18kls9",
        "outputId": "06d8bcc3-70f9-413a-a9b2-d9a44f6b92d7"
      },
      "source": [
        "data_scaled.head()"
      ],
      "execution_count": 119,
      "outputs": [
        {
          "output_type": "execute_result",
          "data": {
            "text/html": [
              "<div>\n",
              "<style scoped>\n",
              "    .dataframe tbody tr th:only-of-type {\n",
              "        vertical-align: middle;\n",
              "    }\n",
              "\n",
              "    .dataframe tbody tr th {\n",
              "        vertical-align: top;\n",
              "    }\n",
              "\n",
              "    .dataframe thead th {\n",
              "        text-align: right;\n",
              "    }\n",
              "</style>\n",
              "<table border=\"1\" class=\"dataframe\">\n",
              "  <thead>\n",
              "    <tr style=\"text-align: right;\">\n",
              "      <th></th>\n",
              "      <th>QUANTITYORDERED</th>\n",
              "      <th>PRICEEACH</th>\n",
              "      <th>ORDERLINENUMBER</th>\n",
              "      <th>SALES</th>\n",
              "      <th>QTR_ID</th>\n",
              "      <th>MONTH_ID</th>\n",
              "      <th>YEAR_ID</th>\n",
              "      <th>MSRP</th>\n",
              "    </tr>\n",
              "  </thead>\n",
              "  <tbody>\n",
              "    <tr>\n",
              "      <th>0</th>\n",
              "      <td>0.008563</td>\n",
              "      <td>0.027316</td>\n",
              "      <td>0.000571</td>\n",
              "      <td>0.819492</td>\n",
              "      <td>0.000285</td>\n",
              "      <td>0.000571</td>\n",
              "      <td>0.571732</td>\n",
              "      <td>0.027117</td>\n",
              "    </tr>\n",
              "    <tr>\n",
              "      <th>1</th>\n",
              "      <td>0.009949</td>\n",
              "      <td>0.023804</td>\n",
              "      <td>0.001463</td>\n",
              "      <td>0.809343</td>\n",
              "      <td>0.000585</td>\n",
              "      <td>0.001463</td>\n",
              "      <td>0.586107</td>\n",
              "      <td>0.027798</td>\n",
              "    </tr>\n",
              "    <tr>\n",
              "      <th>2</th>\n",
              "      <td>0.009377</td>\n",
              "      <td>0.021667</td>\n",
              "      <td>0.000457</td>\n",
              "      <td>0.888331</td>\n",
              "      <td>0.000686</td>\n",
              "      <td>0.001601</td>\n",
              "      <td>0.458077</td>\n",
              "      <td>0.021726</td>\n",
              "    </tr>\n",
              "    <tr>\n",
              "      <th>3</th>\n",
              "      <td>0.010587</td>\n",
              "      <td>0.019588</td>\n",
              "      <td>0.001412</td>\n",
              "      <td>0.881446</td>\n",
              "      <td>0.000706</td>\n",
              "      <td>0.001882</td>\n",
              "      <td>0.471224</td>\n",
              "      <td>0.022350</td>\n",
              "    </tr>\n",
              "    <tr>\n",
              "      <th>4</th>\n",
              "      <td>0.008782</td>\n",
              "      <td>0.017923</td>\n",
              "      <td>0.002509</td>\n",
              "      <td>0.932961</td>\n",
              "      <td>0.000717</td>\n",
              "      <td>0.001792</td>\n",
              "      <td>0.359006</td>\n",
              "      <td>0.017027</td>\n",
              "    </tr>\n",
              "  </tbody>\n",
              "</table>\n",
              "</div>"
            ],
            "text/plain": [
              "   QUANTITYORDERED  PRICEEACH  ORDERLINENUMBER  ...  MONTH_ID   YEAR_ID      MSRP\n",
              "0         0.008563   0.027316         0.000571  ...  0.000571  0.571732  0.027117\n",
              "1         0.009949   0.023804         0.001463  ...  0.001463  0.586107  0.027798\n",
              "2         0.009377   0.021667         0.000457  ...  0.001601  0.458077  0.021726\n",
              "3         0.010587   0.019588         0.001412  ...  0.001882  0.471224  0.022350\n",
              "4         0.008782   0.017923         0.002509  ...  0.001792  0.359006  0.017027\n",
              "\n",
              "[5 rows x 8 columns]"
            ]
          },
          "metadata": {},
          "execution_count": 119
        }
      ]
    },
    {
      "cell_type": "code",
      "metadata": {
        "colab": {
          "base_uri": "https://localhost:8080/",
          "height": 445
        },
        "id": "vZSxdu5-l2QX",
        "outputId": "edf5c0e9-0e19-4788-97c7-eccfb292510b"
      },
      "source": [
        "plt.figure(figsize=(10, 7))  \n",
        "plt.scatter(data_scaled['QUANTITYORDERED'], data_scaled['SALES'], c=cluster.labels_)"
      ],
      "execution_count": 126,
      "outputs": [
        {
          "output_type": "execute_result",
          "data": {
            "text/plain": [
              "<matplotlib.collections.PathCollection at 0x7fa6494a13d0>"
            ]
          },
          "metadata": {},
          "execution_count": 126
        },
        {
          "output_type": "display_data",
          "data": {
            "image/png": "[encoded data removed]",
            "text/plain": [
              "<Figure size 720x504 with 1 Axes>"
            ]
          },
          "metadata": {
            "needs_background": "light"
          }
        }
      ]
    }
  ]
}